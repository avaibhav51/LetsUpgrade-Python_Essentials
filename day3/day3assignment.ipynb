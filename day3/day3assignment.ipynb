{
 "cells": [
  {
   "cell_type": "code",
   "execution_count": 1,
   "metadata": {},
   "outputs": [
    {
     "name": "stdin",
     "output_type": "stream",
     "text": [
      "Enter current altitude :   35000\n"
     ]
    },
    {
     "name": "stdout",
     "output_type": "stream",
     "text": [
      "Turn around\n"
     ]
    },
    {
     "name": "stdin",
     "output_type": "stream",
     "text": [
      "Enter current altitude :   5000\n"
     ]
    },
    {
     "name": "stdout",
     "output_type": "stream",
     "text": [
      "Turn around\n"
     ]
    },
    {
     "name": "stdin",
     "output_type": "stream",
     "text": [
      "Enter current altitude :   4500\n"
     ]
    },
    {
     "name": "stdout",
     "output_type": "stream",
     "text": [
      "Bring down to 1000 ft.\n"
     ]
    },
    {
     "name": "stdin",
     "output_type": "stream",
     "text": [
      "Enter current altitude :   1000\n"
     ]
    },
    {
     "name": "stdout",
     "output_type": "stream",
     "text": [
      "Safe to Land\n"
     ]
    },
    {
     "name": "stdin",
     "output_type": "stream",
     "text": [
      "Enter current altitude :   500\n"
     ]
    },
    {
     "name": "stdout",
     "output_type": "stream",
     "text": [
      "Safe to Land\n"
     ]
    },
    {
     "name": "stdin",
     "output_type": "stream",
     "text": [
      "Enter current altitude :   0\n"
     ]
    },
    {
     "name": "stdout",
     "output_type": "stream",
     "text": [
      "Plane Landed\n"
     ]
    }
   ],
   "source": [
    "for x in range(6):\n",
    "    altitude = int(input(\"Enter current altitude :  \"))\n",
    "    print(\"Plane Landed\") if (altitude == 0) else print(\"Safe to Land\") if (altitude <= 1000) else print(\"Bring down to 1000 ft.\") if(altitude > 1000 and altitude < 5000) else print(\"Turn around\")"
   ]
  },
  {
   "cell_type": "code",
   "execution_count": 3,
   "metadata": {},
   "outputs": [
    {
     "name": "stdout",
     "output_type": "stream",
     "text": [
      "not prime.  1  is less than 1\n",
      "=== prime ===  2  === prime ===\n",
      "=== prime ===  3  === prime ===\n",
      "=== prime ===  4  === prime ===\n",
      "=== prime ===  5  === prime ===\n",
      "not prime.  6  =  2  times  3\n",
      "=== prime ===  7  === prime ===\n",
      "not prime.  8  =  2  times  4\n",
      "not prime.  9  =  3  times  3\n",
      "not prime.  10  =  2  times  5\n",
      "=== prime ===  11  === prime ===\n",
      "not prime.  12  =  2  times  6\n",
      "=== prime ===  13  === prime ===\n",
      "not prime.  14  =  2  times  7\n",
      "not prime.  15  =  3  times  5\n",
      "not prime.  16  =  2  times  8\n",
      "=== prime ===  17  === prime ===\n",
      "not prime.  18  =  2  times  9\n",
      "=== prime ===  19  === prime ===\n",
      "not prime.  20  =  2  times  10\n",
      "not prime.  21  =  3  times  7\n",
      "not prime.  22  =  2  times  11\n",
      "=== prime ===  23  === prime ===\n",
      "not prime.  24  =  2  times  12\n",
      "not prime.  25  =  5  times  5\n",
      "not prime.  26  =  2  times  13\n",
      "not prime.  27  =  3  times  9\n",
      "not prime.  28  =  2  times  14\n",
      "=== prime ===  29  === prime ===\n",
      "not prime.  30  =  2  times  15\n",
      "=== prime ===  31  === prime ===\n",
      "not prime.  32  =  2  times  16\n",
      "not prime.  33  =  3  times  11\n",
      "not prime.  34  =  2  times  17\n",
      "not prime.  35  =  5  times  7\n",
      "not prime.  36  =  2  times  18\n",
      "=== prime ===  37  === prime ===\n",
      "not prime.  38  =  2  times  19\n",
      "not prime.  39  =  3  times  13\n",
      "not prime.  40  =  2  times  20\n",
      "=== prime ===  41  === prime ===\n",
      "not prime.  42  =  2  times  21\n",
      "=== prime ===  43  === prime ===\n",
      "not prime.  44  =  2  times  22\n",
      "not prime.  45  =  3  times  15\n",
      "not prime.  46  =  2  times  23\n",
      "=== prime ===  47  === prime ===\n",
      "not prime.  48  =  2  times  24\n",
      "not prime.  49  =  7  times  7\n",
      "not prime.  50  =  2  times  25\n",
      "not prime.  51  =  3  times  17\n",
      "not prime.  52  =  2  times  26\n",
      "=== prime ===  53  === prime ===\n",
      "not prime.  54  =  2  times  27\n",
      "not prime.  55  =  5  times  11\n",
      "not prime.  56  =  2  times  28\n",
      "not prime.  57  =  3  times  19\n",
      "not prime.  58  =  2  times  29\n",
      "=== prime ===  59  === prime ===\n",
      "not prime.  60  =  2  times  30\n",
      "=== prime ===  61  === prime ===\n",
      "not prime.  62  =  2  times  31\n",
      "not prime.  63  =  3  times  21\n",
      "not prime.  64  =  2  times  32\n",
      "not prime.  65  =  5  times  13\n",
      "not prime.  66  =  2  times  33\n",
      "=== prime ===  67  === prime ===\n",
      "not prime.  68  =  2  times  34\n",
      "not prime.  69  =  3  times  23\n",
      "not prime.  70  =  2  times  35\n",
      "=== prime ===  71  === prime ===\n",
      "not prime.  72  =  2  times  36\n",
      "=== prime ===  73  === prime ===\n",
      "not prime.  74  =  2  times  37\n",
      "not prime.  75  =  3  times  25\n",
      "not prime.  76  =  2  times  38\n",
      "not prime.  77  =  7  times  11\n",
      "not prime.  78  =  2  times  39\n",
      "=== prime ===  79  === prime ===\n",
      "not prime.  80  =  2  times  40\n",
      "not prime.  81  =  3  times  27\n",
      "not prime.  82  =  2  times  41\n",
      "=== prime ===  83  === prime ===\n",
      "not prime.  84  =  2  times  42\n",
      "not prime.  85  =  5  times  17\n",
      "not prime.  86  =  2  times  43\n",
      "not prime.  87  =  3  times  29\n",
      "not prime.  88  =  2  times  44\n",
      "=== prime ===  89  === prime ===\n",
      "not prime.  90  =  2  times  45\n",
      "not prime.  91  =  7  times  13\n",
      "not prime.  92  =  2  times  46\n",
      "not prime.  93  =  3  times  31\n",
      "not prime.  94  =  2  times  47\n",
      "not prime.  95  =  5  times  19\n",
      "not prime.  96  =  2  times  48\n",
      "=== prime ===  97  === prime ===\n",
      "not prime.  98  =  2  times  49\n",
      "not prime.  99  =  3  times  33\n",
      "not prime.  100  =  2  times  50\n",
      "=== prime ===  101  === prime ===\n",
      "not prime.  102  =  2  times  51\n",
      "=== prime ===  103  === prime ===\n",
      "not prime.  104  =  2  times  52\n",
      "not prime.  105  =  3  times  35\n",
      "not prime.  106  =  2  times  53\n",
      "=== prime ===  107  === prime ===\n",
      "not prime.  108  =  2  times  54\n",
      "=== prime ===  109  === prime ===\n",
      "not prime.  110  =  2  times  55\n",
      "not prime.  111  =  3  times  37\n",
      "not prime.  112  =  2  times  56\n",
      "=== prime ===  113  === prime ===\n",
      "not prime.  114  =  2  times  57\n",
      "not prime.  115  =  5  times  23\n",
      "not prime.  116  =  2  times  58\n",
      "not prime.  117  =  3  times  39\n",
      "not prime.  118  =  2  times  59\n",
      "not prime.  119  =  7  times  17\n",
      "not prime.  120  =  2  times  60\n",
      "not prime.  121  =  11  times  11\n",
      "not prime.  122  =  2  times  61\n",
      "not prime.  123  =  3  times  41\n",
      "not prime.  124  =  2  times  62\n",
      "not prime.  125  =  5  times  25\n",
      "not prime.  126  =  2  times  63\n",
      "=== prime ===  127  === prime ===\n",
      "not prime.  128  =  2  times  64\n",
      "not prime.  129  =  3  times  43\n",
      "not prime.  130  =  2  times  65\n",
      "=== prime ===  131  === prime ===\n",
      "not prime.  132  =  2  times  66\n",
      "not prime.  133  =  7  times  19\n",
      "not prime.  134  =  2  times  67\n",
      "not prime.  135  =  3  times  45\n",
      "not prime.  136  =  2  times  68\n",
      "=== prime ===  137  === prime ===\n",
      "not prime.  138  =  2  times  69\n",
      "=== prime ===  139  === prime ===\n",
      "not prime.  140  =  2  times  70\n",
      "not prime.  141  =  3  times  47\n",
      "not prime.  142  =  2  times  71\n",
      "not prime.  143  =  11  times  13\n",
      "not prime.  144  =  2  times  72\n",
      "not prime.  145  =  5  times  29\n",
      "not prime.  146  =  2  times  73\n",
      "not prime.  147  =  3  times  49\n",
      "not prime.  148  =  2  times  74\n",
      "=== prime ===  149  === prime ===\n",
      "not prime.  150  =  2  times  75\n",
      "=== prime ===  151  === prime ===\n",
      "not prime.  152  =  2  times  76\n",
      "not prime.  153  =  3  times  51\n",
      "not prime.  154  =  2  times  77\n",
      "not prime.  155  =  5  times  31\n",
      "not prime.  156  =  2  times  78\n",
      "=== prime ===  157  === prime ===\n",
      "not prime.  158  =  2  times  79\n",
      "not prime.  159  =  3  times  53\n",
      "not prime.  160  =  2  times  80\n",
      "not prime.  161  =  7  times  23\n",
      "not prime.  162  =  2  times  81\n",
      "=== prime ===  163  === prime ===\n",
      "not prime.  164  =  2  times  82\n",
      "not prime.  165  =  3  times  55\n",
      "not prime.  166  =  2  times  83\n",
      "=== prime ===  167  === prime ===\n",
      "not prime.  168  =  2  times  84\n",
      "not prime.  169  =  13  times  13\n",
      "not prime.  170  =  2  times  85\n",
      "not prime.  171  =  3  times  57\n",
      "not prime.  172  =  2  times  86\n",
      "=== prime ===  173  === prime ===\n",
      "not prime.  174  =  2  times  87\n",
      "not prime.  175  =  5  times  35\n",
      "not prime.  176  =  2  times  88\n",
      "not prime.  177  =  3  times  59\n",
      "not prime.  178  =  2  times  89\n",
      "=== prime ===  179  === prime ===\n",
      "not prime.  180  =  2  times  90\n",
      "=== prime ===  181  === prime ===\n",
      "not prime.  182  =  2  times  91\n",
      "not prime.  183  =  3  times  61\n",
      "not prime.  184  =  2  times  92\n",
      "not prime.  185  =  5  times  37\n",
      "not prime.  186  =  2  times  93\n",
      "not prime.  187  =  11  times  17\n",
      "not prime.  188  =  2  times  94\n",
      "not prime.  189  =  3  times  63\n",
      "not prime.  190  =  2  times  95\n",
      "=== prime ===  191  === prime ===\n",
      "not prime.  192  =  2  times  96\n",
      "=== prime ===  193  === prime ===\n",
      "not prime.  194  =  2  times  97\n",
      "not prime.  195  =  3  times  65\n",
      "not prime.  196  =  2  times  98\n",
      "=== prime ===  197  === prime ===\n",
      "not prime.  198  =  2  times  99\n",
      "=== prime ===  199  === prime ===\n",
      "not prime.  200  =  2  times  100\n",
      "\n",
      " prime numbers are :\n",
      "     [2, 3, 4, 5, 7, 11, 13, 17, 19, 23, 29, 31, 37, 41, 43, 47, 53, 59, 61, 67, 71, 73, 79, 83, 89, 97, 101, 103, 107, 109, 113, 127, 131, 137, 139, 149, 151, 157, 163, 167, 173, 179, 181, 191, 193, 197, 199]\n"
     ]
    }
   ],
   "source": [
    "#prime number\n",
    "findPrimeNumberTill = range(1, 201)\n",
    "primelist=[]\n",
    "for curr in findPrimeNumberTill:\n",
    "    if curr<=1:\n",
    "        print(\"not prime. \", curr, ' is less than 1')\n",
    "        pass\n",
    "    else:\n",
    "        # check for factors\n",
    "        for i in range(2, int(curr/2)):\n",
    "            if curr % i == 0:\n",
    "                print(\"not prime. \", curr, ' = ', i, ' times ', int(curr/i))\n",
    "                break\n",
    "        else:\n",
    "            print('=== prime === ', curr, \" === prime ===\")\n",
    "            primelist.append(curr)\n",
    "print(\"\\n\", 'prime numbers are :\\n    ', primelist)"
   ]
  },
  {
   "cell_type": "code",
   "execution_count": null,
   "metadata": {},
   "outputs": [],
   "source": []
  }
 ],
 "metadata": {
  "kernelspec": {
   "display_name": "Python 3",
   "language": "python",
   "name": "python3"
  },
  "language_info": {
   "codemirror_mode": {
    "name": "ipython",
    "version": 3
   },
   "file_extension": ".py",
   "mimetype": "text/x-python",
   "name": "python",
   "nbconvert_exporter": "python",
   "pygments_lexer": "ipython3",
   "version": "3.8.3"
  }
 },
 "nbformat": 4,
 "nbformat_minor": 4
}
