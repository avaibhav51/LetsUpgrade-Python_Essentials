{
 "cells": [
  {
   "cell_type": "code",
   "execution_count": 3,
   "metadata": {},
   "outputs": [
    {
     "name": "stdin",
     "output_type": "stream",
     "text": [
      "Enter a Number -  7\n"
     ]
    },
    {
     "name": "stdout",
     "output_type": "stream",
     "text": [
      "odd\n",
      "not divisible by 3\n"
     ]
    }
   ],
   "source": [
    "num = int(input(\"Enter a Number - \"))\n",
    "if(num==0):\n",
    "    print('zero')\n",
    "elif(num%2==0):\n",
    "    print('even')\n",
    "else:\n",
    "    print('odd')\n",
    "    if(not num%3==0):\n",
    "        print('not divisible by 3')"
   ]
  },
  {
   "cell_type": "code",
   "execution_count": 27,
   "metadata": {},
   "outputs": [
    {
     "name": "stdout",
     "output_type": "stream",
     "text": [
      "11\n",
      "HEY LOOP 1 IS DONE\n",
      "1\n",
      "2\n",
      "3\n",
      "HEY LOOP 2 IS DONE\n",
      "0\n",
      "1\n",
      "2\n",
      "3\n",
      "4\n",
      "5\n",
      "HEY LOOP 3 IS DONE\n",
      "0\n",
      "2\n",
      "4\n",
      "6\n",
      "HEY LOOP 4 IS DONE\n"
     ]
    }
   ],
   "source": [
    "for i in range(1,21):\n",
    "    if (int(i/10) > 0 and int(i/100) == 0 and i%10 == 1): print(i)\n",
    "else:\n",
    "    print(\"HEY LOOP 1 IS DONE\")\n",
    "    \n",
    "for i in range(1,4):\n",
    "    print(i)\n",
    "else:\n",
    "    print(\"HEY LOOP 2 IS DONE\")\n",
    "    \n",
    "#range(0, 6) # for i=0 to i<6\n",
    "x = range(6)\n",
    "for n in x:\n",
    "  print(n)\n",
    "else:\n",
    "    print(\"HEY LOOP 3 IS DONE\")\n",
    "    \n",
    "#range(0, 7) # for i=0 to i<7 i=i+2\n",
    "x = range(0,7,2)\n",
    "for n in x:\n",
    "  print(n)\n",
    "else:\n",
    "    print(\"HEY LOOP 4 IS DONE\")"
   ]
  },
  {
   "cell_type": "code",
   "execution_count": null,
   "metadata": {},
   "outputs": [],
   "source": []
  },
  {
   "cell_type": "code",
   "execution_count": null,
   "metadata": {},
   "outputs": [],
   "source": []
  }
 ],
 "metadata": {
  "kernelspec": {
   "display_name": "Python 3",
   "language": "python",
   "name": "python3"
  },
  "language_info": {
   "codemirror_mode": {
    "name": "ipython",
    "version": 3
   },
   "file_extension": ".py",
   "mimetype": "text/x-python",
   "name": "python",
   "nbconvert_exporter": "python",
   "pygments_lexer": "ipython3",
   "version": "3.8.3"
  }
 },
 "nbformat": 4,
 "nbformat_minor": 4
}
