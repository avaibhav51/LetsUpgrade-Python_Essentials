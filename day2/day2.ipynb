{
 "cells": [
  {
   "cell_type": "code",
   "execution_count": 1,
   "metadata": {},
   "outputs": [
    {
     "name": "stdout",
     "output_type": "stream",
     "text": [
      "randomstring\n"
     ]
    },
    {
     "data": {
      "text/plain": [
       "str"
      ]
     },
     "execution_count": 1,
     "metadata": {},
     "output_type": "execute_result"
    }
   ],
   "source": [
    "a=\"randomstring\"\n",
    "print(a)\n",
    "type(a)"
   ]
  },
  {
   "cell_type": "code",
   "execution_count": 2,
   "metadata": {},
   "outputs": [
    {
     "name": "stdout",
     "output_type": "stream",
     "text": [
      "90\n"
     ]
    },
    {
     "data": {
      "text/plain": [
       "int"
      ]
     },
     "execution_count": 2,
     "metadata": {},
     "output_type": "execute_result"
    }
   ],
   "source": [
    "a=90\n",
    "print(a)\n",
    "type(a)"
   ]
  },
  {
   "cell_type": "code",
   "execution_count": 3,
   "metadata": {},
   "outputs": [
    {
     "name": "stdout",
     "output_type": "stream",
     "text": [
      "8.0\n"
     ]
    },
    {
     "data": {
      "text/plain": [
       "float"
      ]
     },
     "execution_count": 3,
     "metadata": {},
     "output_type": "execute_result"
    }
   ],
   "source": [
    "b=8.000\n",
    "print(b)\n",
    "type(b)"
   ]
  },
  {
   "cell_type": "code",
   "execution_count": 4,
   "metadata": {},
   "outputs": [
    {
     "data": {
      "text/plain": [
       "98.0"
      ]
     },
     "execution_count": 4,
     "metadata": {},
     "output_type": "execute_result"
    }
   ],
   "source": [
    "c=a+b\n",
    "# print(c)\n",
    "# type(c)\n",
    "c"
   ]
  },
  {
   "cell_type": "code",
   "execution_count": 5,
   "metadata": {},
   "outputs": [
    {
     "data": {
      "text/plain": [
       "list"
      ]
     },
     "execution_count": 5,
     "metadata": {},
     "output_type": "execute_result"
    }
   ],
   "source": [
    "list1 = [1,\"a\",1.2,[\"qw\",'qwerty', c]]\n",
    "type(list1)"
   ]
  },
  {
   "cell_type": "code",
   "execution_count": 6,
   "metadata": {},
   "outputs": [
    {
     "name": "stdout",
     "output_type": "stream",
     "text": [
      "[1, 'a', 1.2, ['qw', 'qwerty', 98.0]]\n",
      "['qw', 'qwerty', 98.0]\n",
      "1.2\n",
      "98.0\n"
     ]
    }
   ],
   "source": [
    "print(list1)\n",
    "print(list1[3])\n",
    "print(list1[-2])\n",
    "print(list1[3][2])\n",
    "# print(list1[9]) #error"
   ]
  },
  {
   "cell_type": "code",
   "execution_count": 7,
   "metadata": {},
   "outputs": [
    {
     "name": "stdout",
     "output_type": "stream",
     "text": [
      "index of a: 1\n",
      "[1, 'a', 1.2, ['qw', 'qwerty', 98.0], 'hyphen']\n",
      "[1, 'a', 1.2, ['qw', 'qwerty', 98.0], 'hyphen', ['x', 'y']]\n"
     ]
    }
   ],
   "source": [
    "print('index of a:',list1.index(\"a\"))\n",
    "list1.append(\"hyphen\")\n",
    "print(list1)\n",
    "list1.append([\"x\",'y'])\n",
    "print(list1)"
   ]
  },
  {
   "cell_type": "code",
   "execution_count": 8,
   "metadata": {},
   "outputs": [
    {
     "name": "stdout",
     "output_type": "stream",
     "text": [
      "{'naam': 'jaan k kya karoge', 'age': 'nanha munha raahi hu', 1: 'bas ek random number'}\n"
     ]
    },
    {
     "data": {
      "text/plain": [
       "dict"
      ]
     },
     "execution_count": 8,
     "metadata": {},
     "output_type": "execute_result"
    }
   ],
   "source": [
    "dict1 = {'naam':\"jaan k kya karoge\", \"age\": \"nanha munha raahi hu\", 1: \"bas ek random number\"}\n",
    "print(dict1)\n",
    "type(dict1)"
   ]
  },
  {
   "cell_type": "code",
   "execution_count": 9,
   "metadata": {},
   "outputs": [
    {
     "name": "stdout",
     "output_type": "stream",
     "text": [
      "bas ek random number\n",
      "jaan k kya karoge\n"
     ]
    },
    {
     "data": {
      "text/plain": [
       "'jaan k kya karoge'"
      ]
     },
     "execution_count": 9,
     "metadata": {},
     "output_type": "execute_result"
    }
   ],
   "source": [
    "print(dict1[1])\n",
    "print(dict1['naam'])\n",
    "dict1['naam']"
   ]
  },
  {
   "cell_type": "code",
   "execution_count": 10,
   "metadata": {},
   "outputs": [
    {
     "data": {
      "text/plain": [
       "dict_items([('naam', 'jaan k kya karoge'), ('age', 'nanha munha raahi hu'), (1, 'bas ek random number')])"
      ]
     },
     "execution_count": 10,
     "metadata": {},
     "output_type": "execute_result"
    }
   ],
   "source": [
    "dict1.items()"
   ]
  },
  {
   "cell_type": "code",
   "execution_count": 11,
   "metadata": {},
   "outputs": [
    {
     "data": {
      "text/plain": [
       "dict_keys(['naam', 'age', 1])"
      ]
     },
     "execution_count": 11,
     "metadata": {},
     "output_type": "execute_result"
    }
   ],
   "source": [
    "dict1.keys()"
   ]
  },
  {
   "cell_type": "code",
   "execution_count": 12,
   "metadata": {},
   "outputs": [
    {
     "data": {
      "text/plain": [
       "dict_values(['jaan k kya karoge', 'nanha munha raahi hu', 'bas ek random number'])"
      ]
     },
     "execution_count": 12,
     "metadata": {},
     "output_type": "execute_result"
    }
   ],
   "source": [
    "dict1.values()"
   ]
  },
  {
   "cell_type": "code",
   "execution_count": 13,
   "metadata": {},
   "outputs": [
    {
     "data": {
      "text/plain": [
       "'bas ek random number'"
      ]
     },
     "execution_count": 13,
     "metadata": {},
     "output_type": "execute_result"
    }
   ],
   "source": [
    "dict1.pop(1)"
   ]
  },
  {
   "cell_type": "code",
   "execution_count": 14,
   "metadata": {},
   "outputs": [
    {
     "data": {
      "text/plain": [
       "{'naam': 'jaan k kya karoge', 'age': 'nanha munha raahi hu'}"
      ]
     },
     "execution_count": 14,
     "metadata": {},
     "output_type": "execute_result"
    }
   ],
   "source": [
    "dict1"
   ]
  },
  {
   "cell_type": "code",
   "execution_count": 15,
   "metadata": {},
   "outputs": [
    {
     "data": {
      "text/plain": [
       "{'naam': 'jaan k kya karoge',\n",
       " 'age': 'nanha munha raahi hu',\n",
       " 'kaha ho': 'jahannum me'}"
      ]
     },
     "execution_count": 15,
     "metadata": {},
     "output_type": "execute_result"
    }
   ],
   "source": [
    "dict1[\"kaha ho\"] = 'jahannum me'\n",
    "dict1"
   ]
  },
  {
   "cell_type": "code",
   "execution_count": 16,
   "metadata": {},
   "outputs": [
    {
     "name": "stdout",
     "output_type": "stream",
     "text": [
      "{0.3, 0.0, 2.2, 34, 'string1'}\n"
     ]
    },
    {
     "data": {
      "text/plain": [
       "set"
      ]
     },
     "execution_count": 16,
     "metadata": {},
     "output_type": "execute_result"
    }
   ],
   "source": [
    "set1= {2.2,0.3,0.0,34, 0.00,00,\"string1\"}\n",
    "print(set1)\n",
    "type(set1)"
   ]
  },
  {
   "cell_type": "code",
   "execution_count": 17,
   "metadata": {},
   "outputs": [
    {
     "data": {
      "text/plain": [
       "True"
      ]
     },
     "execution_count": 17,
     "metadata": {},
     "output_type": "execute_result"
    }
   ],
   "source": [
    "set2={0}\n",
    "set2.issubset(set1)"
   ]
  },
  {
   "cell_type": "code",
   "execution_count": 18,
   "metadata": {},
   "outputs": [
    {
     "name": "stdout",
     "output_type": "stream",
     "text": [
      "('hi', 1, 2.0, 0, 0.0, 'hi')\n"
     ]
    },
    {
     "data": {
      "text/plain": [
       "tuple"
      ]
     },
     "execution_count": 18,
     "metadata": {},
     "output_type": "execute_result"
    }
   ],
   "source": [
    "tuple1 = (\"hi\", 1, 2.0, 0, 0.0, 'hi')\n",
    "print(tuple1)\n",
    "type(tuple1)"
   ]
  },
  {
   "cell_type": "code",
   "execution_count": 19,
   "metadata": {},
   "outputs": [
    {
     "data": {
      "text/plain": [
       "1"
      ]
     },
     "execution_count": 19,
     "metadata": {},
     "output_type": "execute_result"
    }
   ],
   "source": [
    "tuple1.count(2.0)"
   ]
  },
  {
   "cell_type": "code",
   "execution_count": 20,
   "metadata": {},
   "outputs": [
    {
     "data": {
      "text/plain": [
       "2"
      ]
     },
     "execution_count": 20,
     "metadata": {},
     "output_type": "execute_result"
    }
   ],
   "source": [
    "tuple1.count('hi')"
   ]
  },
  {
   "cell_type": "code",
   "execution_count": 21,
   "metadata": {},
   "outputs": [
    {
     "data": {
      "text/plain": [
       "2"
      ]
     },
     "execution_count": 21,
     "metadata": {},
     "output_type": "execute_result"
    }
   ],
   "source": [
    "tuple1.count(0)"
   ]
  },
  {
   "cell_type": "code",
   "execution_count": 22,
   "metadata": {},
   "outputs": [
    {
     "data": {
      "text/plain": [
       "0"
      ]
     },
     "execution_count": 22,
     "metadata": {},
     "output_type": "execute_result"
    }
   ],
   "source": [
    "tuple1.count(9)"
   ]
  },
  {
   "cell_type": "code",
   "execution_count": 23,
   "metadata": {},
   "outputs": [
    {
     "data": {
      "text/plain": [
       "3"
      ]
     },
     "execution_count": 23,
     "metadata": {},
     "output_type": "execute_result"
    }
   ],
   "source": [
    "tuple1.index(0.0)"
   ]
  },
  {
   "cell_type": "code",
   "execution_count": 24,
   "metadata": {},
   "outputs": [
    {
     "name": "stdout",
     "output_type": "stream",
     "text": [
      "{4, 5, 6, 12, 'great', 'invent'}\n",
      "deleting 6...\n",
      "{4, 5, 12, 'great', 'invent'}\n",
      "popped elem:   4\n",
      "popped elem:   5\n",
      "{12, 'great', 'invent'}\n",
      "length of set: 3\n",
      "adding tuple :   ('hi', 1, 2.0, 0, 0.0, 'hi')\n",
      "{0, 1, 2.0, 12, 'hi', 'great', 'invent'}\n"
     ]
    }
   ],
   "source": [
    "set3=set((5,6,6))  #another way to define set using constructor\n",
    "\n",
    "set3.add(12)\n",
    "set3.update([4,\"great\", \"invent\"])\n",
    "print(set3)\n",
    "print('deleting 6...')\n",
    "set3.remove(6) # gives error if elem not present \n",
    "set3.discard(6)  # no error if elem not present\n",
    "print(set3)\n",
    "print('popped elem:  ',set3.pop())\n",
    "print('popped elem:  ',set3.pop())\n",
    "print(set3)\n",
    "\n",
    "print(\"length of set:\",len(set3))\n",
    "print(\"adding tuple :  \",tuple1)\n",
    "set3.update(tuple1)\n",
    "print(set3)"
   ]
  },
  {
   "cell_type": "code",
   "execution_count": 25,
   "metadata": {},
   "outputs": [
    {
     "name": "stdout",
     "output_type": "stream",
     "text": [
      "{0, 1, 2.0, 'great', 12, 'invent', 'hi'}\n",
      "set()\n",
      "set1copy::   {0.3, 0.0, 2.2, 34, 'string1'}\n",
      "set2copy::   {0, 34, 'abc'}\n",
      "\n",
      "symmetric_difference =  {0.3, 2.2, 'string1', 'abc'}\n",
      "intersecting elements:  {0, 34}\n",
      "whether disjoint?  False\n",
      "\n",
      "set1copy.difference(set2copy)=  {0.3, 2.2, 'string1'}\n",
      "set1copy::   {0.3, 0.0, 2.2, 34, 'string1'}\n",
      "set2copy::   {0, 34, 'abc'}\n",
      "after updating on diff from set2copy\n",
      "set1copy::   {0.3, 2.2, 'string1'}\n",
      "set2copy::   {0, 34, 'abc'}\n",
      "whether disjoint now?  True\n",
      "UNION of all defined sets:::   {0.3, 0.0, 2.2, 34, 1, 2.0, 'string1', 12, 'hi', 'great', 'abc', 'invent'}\n"
     ]
    }
   ],
   "source": [
    "set3copy = set3.copy()\n",
    "print(set3copy)\n",
    "set3copy.clear()\n",
    "print(set3copy)\n",
    "del set3copy\n",
    "\n",
    "set1copy = set1.copy()\n",
    "set2copy = set2.copy()\n",
    "print(\"set1copy::  \", set1copy)\n",
    "set2copy.update([34,'abc'])\n",
    "print(\"set2copy::  \", set2copy)\n",
    "\n",
    "print('\\nsymmetric_difference = ',set1copy.symmetric_difference(set2copy))\n",
    "print('intersecting elements: ',set1copy.intersection(set2copy))\n",
    "print('whether disjoint? ',set1copy.isdisjoint(set2copy))\n",
    "\n",
    "print('\\nset1copy.difference(set2copy)= ',set1copy.difference(set2copy))\n",
    "print(\"set1copy::  \", set1copy)\n",
    "print(\"set2copy::  \", set2copy)\n",
    "set1copy.difference_update(set2copy)\n",
    "print('after updating on diff from set2copy')\n",
    "print(\"set1copy::  \", set1copy)\n",
    "print(\"set2copy::  \", set2copy)\n",
    "print('whether disjoint now? ',set1copy.isdisjoint(set2copy))\n",
    "\n",
    "print('UNION of all defined sets:::  ',set1.union(set1copy,set2copy,set3,set2))\n"
   ]
  },
  {
   "cell_type": "code",
   "execution_count": 26,
   "metadata": {},
   "outputs": [
    {
     "name": "stdout",
     "output_type": "stream",
     "text": [
      "[1, 'a', 1.2, ['qw', 'qwerty', 98.0], 'hyphen', ['x', 'y'], 1, 1.2]\n",
      "no. of times '1' occured: 2\n",
      "[1, 'a', 1.2, 'beech me', ['qw', 'qwerty', 98.0], 'hyphen', ['x', 'y'], 1, 1.2]\n",
      "popping elem= 1.2\n",
      "[1, 'a', 1.2, 'beech me', ['qw', 'qwerty', 98.0], 'hyphen', ['x', 'y'], 1]\n",
      "removed first occurance of \"1\"\n",
      "['a', 1.2, 'beech me', ['qw', 'qwerty', 98.0], 'hyphen', ['x', 'y'], 1]\n",
      "['a', 1.2, 'blackcurrant', ['qw', 'qwerty', 98.0], 'hyphen', ['x', 'y'], 1]\n",
      "\n",
      "if/for constructs:::: \n",
      "a\n",
      "1.2\n",
      "blackcurrant\n",
      "qw\n",
      "qwerty\n",
      "98.0\n",
      "hyphen\n",
      "x\n",
      "y\n",
      "1\n"
     ]
    }
   ],
   "source": [
    "list2=list1.copy()\n",
    "list2.append(1)\n",
    "list2.append(1.2)\n",
    "print(list2)\n",
    "\n",
    "print(\"no. of times '1' occured:\",list2.count(1))\n",
    "list2.insert(3,'beech me')\n",
    "print(list2)\n",
    "print('popping elem=',list2.pop())\n",
    "print(list2)\n",
    "list2.remove(1)\n",
    "print('removed first occurance of \"1\"')\n",
    "print(list2)\n",
    "list2[2] = \"blackcurrant\"\n",
    "print(list2)\n",
    "\n",
    "print('\\nif/for constructs:::: ')\n",
    "if \"blackcurrant\" in list2:\n",
    "    for elem in list2:\n",
    "#         below - not working part is commented\n",
    "#         if (type(elem)==list): # or type(elem)==dict or type(elem)==set or type(elem)==tuple:\n",
    "#         if (isinstance(elem, list)):# or isinstance(elem, dict) or isinstance(elem, set) or isinstance(elem, tuple)):\n",
    "#         if (isinstance(elem, (list, dict, set, tuple))):\n",
    "#         if (type(elem) in [list, dict, set, tuple]):\n",
    "        if isinstance(elem, type([list, dict, set, tuple])):\n",
    "            for item in elem:\n",
    "                print(item)\n",
    "        else:\n",
    "            print(elem)\n"
   ]
  },
  {
   "cell_type": "code",
   "execution_count": 36,
   "metadata": {},
   "outputs": [
    {
     "name": "stdout",
     "output_type": "stream",
     "text": [
      "['32', '123']\n",
      "['32', '123', 1, 'a', 1.2, ['qw', 'qwerty', 98.0], 'hyphen', ['x', 'y']]\n",
      "['32', '123', 1, 'a', 1.2, ['qw', 'qwerty', 98.0], 'hyphen', ['x', 'y'], 0.3, 0.0, 2.2, 34, 'string1']\n",
      "['32', '123', 1, 'a', 1.2, ['qw', 'qwerty', 98.0], 'hyphen', ['x', 'y'], 0.3, 0.0, 2.2, 34, 'string1', 'naam', 'age', 'kaha ho']\n",
      "['32', '123', 1, 'a', 1.2, ['qw', 'qwerty', 98.0], 'hyphen', ['x', 'y'], 0.3, 0.0, 2.2, 34, 'string1', 'naam', 'age', 'kaha ho', 'hi', 1, 2.0, 0, 0.0, 'hi']\n",
      "['32', '123', 'rgb', 'ann']\n",
      "['123', '32', 'ann', 'rgb']\n",
      "['rgb', 'ann', '32', '123']\n",
      "[78, 78, 77, 45]\n",
      "[45, 77, 78, 78]\n"
     ]
    }
   ],
   "source": [
    "list3 = list((\"32\",\"123\"))\n",
    "print(list3)\n",
    "list3.extend(list1)\n",
    "print(list3)\n",
    "list3.extend(set1)\n",
    "print(list3)\n",
    "list3.extend(dict1)\n",
    "print(list3)\n",
    "list3.extend(tuple1)\n",
    "print(list3)\n",
    "del list3\n",
    "\n",
    "list3 = list((\"32\",\"123\",\"rgb\",\"ann\"))\n",
    "print(list3)\n",
    "list3.sort()\n",
    "print(list3)\n",
    "list3.reverse()\n",
    "print(list3)\n",
    "del list3\n",
    "\n",
    "list3 = list((78,78,77,45))\n",
    "print(list3)\n",
    "list3.sort()\n",
    "print(list3)\n"
   ]
  },
  {
   "cell_type": "code",
   "execution_count": 49,
   "metadata": {},
   "outputs": [
    {
     "name": "stdout",
     "output_type": "stream",
     "text": [
      "naam : jaan k kya karoge\n",
      "age : nanha munha raahi hu\n",
      "kaha ho : jahannum me\n",
      "popitem dict2:  ('kaha ho', 'jahannum me')\n",
      "{'naam': 'jaan k kya karoge', 'age': 'nanha munha raahi hu'}\n",
      "\n",
      " {'key1': None, 'key2': None, 'key3': None}\n",
      "{'key1': 3, 'key2': 3, 'key3': 3}\n",
      "\n",
      " {'brand': 'Ford', 'model': 'Mustang', 'year': 1964}\n",
      "White\n",
      "1964\n",
      "{'brand': 'Ford', 'model': 'Mustang', 'year': 1964, 'color': 'White'}\n",
      "\n",
      "dict2 {'naam': 'jaan k kya karoge', 'age': 'nanha munha raahi hu'}\n",
      "dict3 {'brand': 'Ford', 'model': 'Mustang', 'year': 1964, 'color': 'White'}\n",
      "after update\n",
      "dict2 {'naam': 'jaan k kya karoge', 'age': 'nanha munha raahi hu', 'brand': 'Ford', 'model': 'Mustang', 'year': 1964, 'color': 'White'}\n",
      "dict3 {'brand': 'Ford', 'model': 'Mustang', 'year': 1964, 'color': 'White'}\n"
     ]
    }
   ],
   "source": [
    "dict2=dict(dict1)\n",
    "for x, y in dict2.items():\n",
    "  print(x, ':', y)\n",
    "print(\"popitem dict2: \",dict2.popitem())\n",
    "print(dict2)\n",
    "\n",
    "x = ('key1', 'key2', 'key3')\n",
    "y = 3\n",
    "print('\\n',dict.fromkeys(x))\n",
    "print(dict.fromkeys(x,y))\n",
    "\n",
    "dict3 = dict(brand=\"Ford\", model=\"Mustang\", year=1964)\n",
    "print('\\n',dict3)\n",
    "x = dict3.setdefault(\"color\", \"White\")\n",
    "y = dict3.setdefault(\"year\", 1971)\n",
    "print(x)\n",
    "print(y)\n",
    "print(dict3)\n",
    "\n",
    "\n",
    "print(\"\\ndict2\",dict2)\n",
    "print(\"dict3\",dict3)\n",
    "dict2.update(dict3)\n",
    "print(\"after update\\ndict2\",dict2)\n",
    "print(\"dict3\",dict3)"
   ]
  },
  {
   "cell_type": "code",
   "execution_count": 63,
   "metadata": {},
   "outputs": [
    {
     "name": "stdout",
     "output_type": "stream",
     "text": [
      "hELLO wORLD\n",
      "o Wor\n",
      "or\n",
      "lo W\n",
      "hello world\n",
      "Hello World\n",
      "My name is John, and I am 36. a,b,c\n",
      "My name is John; and I am {}. a;b;c\n",
      "My name is John; and I am {}. a;b,c\n",
      "['My name is John', ' and I am {}. a', 'b', 'c']\n",
      "['My', 'name', 'is', 'John,', 'and', 'I', 'am', '{}.', 'a,b,c']\n",
      "My name is John, and I am {}. a,b,c\n"
     ]
    }
   ],
   "source": [
    "string1=\"Hello World\"\n",
    "print(string1.swapcase())\n",
    "print(string1[4:-2])\n",
    "print(string1[-4:-2])\n",
    "print(string1[3:7])\n",
    "print(string1.casefold()) #to lowercase\n",
    "print(string1)\n",
    "\n",
    "age = 36\n",
    "string2 = \"My name is John, and I am {}. a,b,c\"\n",
    "print(string2.format(age))\n",
    "print(string2.replace(\",\", \";\"))\n",
    "print(string2.replace(\",\", \";\", 2))\n",
    "print(string2.split(\",\"))\n",
    "print(string2.split())\n",
    "print(string2)\n"
   ]
  }
 ],
 "metadata": {
  "kernelspec": {
   "display_name": "Python 3",
   "language": "python",
   "name": "python3"
  },
  "language_info": {
   "codemirror_mode": {
    "name": "ipython",
    "version": 3
   },
   "file_extension": ".py",
   "mimetype": "text/x-python",
   "name": "python",
   "nbconvert_exporter": "python",
   "pygments_lexer": "ipython3",
   "version": "3.8.3"
  }
 },
 "nbformat": 4,
 "nbformat_minor": 4
}
